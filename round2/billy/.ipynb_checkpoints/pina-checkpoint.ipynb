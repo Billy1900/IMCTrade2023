{
 "cells": [
  {
   "cell_type": "code",
   "execution_count": 1,
   "metadata": {},
   "outputs": [
    {
     "name": "stderr",
     "output_type": "stream",
     "text": [
      "/Users/dingchengyang/opt/anaconda3/lib/python3.8/site-packages/pandas/core/computation/expressions.py:20: UserWarning: Pandas requires version '2.7.3' or newer of 'numexpr' (version '2.7.1' currently installed).\n",
      "  from pandas.core.computation.check import NUMEXPR_INSTALLED\n"
     ]
    }
   ],
   "source": [
    "import pandas as pd\n",
    "\n",
    "# correlation\n",
    "df0 = pd.read_csv(\"../data/trades_round_2_day_-1_nn.csv\", sep=\";\")\n",
    "df1 = pd.read_csv(\"../data/trades_round_2_day_0_nn.csv\", sep=\";\")\n",
    "df2 = pd.read_csv(\"../data/trades_round_2_day_1_nn.csv\", sep=\";\")"
   ]
  },
  {
   "cell_type": "code",
   "execution_count": 2,
   "metadata": {},
   "outputs": [
    {
     "name": "stdout",
     "output_type": "stream",
     "text": [
      "Index(['timestamp', 'buyer', 'seller', 'symbol', 'currency', 'price',\n",
      "       'quantity'],\n",
      "      dtype='object')\n"
     ]
    }
   ],
   "source": [
    "df = pd.concat([df0, df1, df2], ignore_index=True)\n",
    "print(df.columns)"
   ]
  },
  {
   "cell_type": "code",
   "execution_count": 3,
   "metadata": {},
   "outputs": [],
   "source": [
    "df_pina = df[df['symbol'] == \"PINA_COLADAS\"].reset_index()\n",
    "df_coco = df[df[\"symbol\"] == \"COCONUTS\"].reset_index()"
   ]
  },
  {
   "cell_type": "code",
   "execution_count": 9,
   "metadata": {},
   "outputs": [
    {
     "data": {
      "text/html": [
       "<div>\n",
       "<style scoped>\n",
       "    .dataframe tbody tr th:only-of-type {\n",
       "        vertical-align: middle;\n",
       "    }\n",
       "\n",
       "    .dataframe tbody tr th {\n",
       "        vertical-align: top;\n",
       "    }\n",
       "\n",
       "    .dataframe thead th {\n",
       "        text-align: right;\n",
       "    }\n",
       "</style>\n",
       "<table border=\"1\" class=\"dataframe\">\n",
       "  <thead>\n",
       "    <tr style=\"text-align: right;\">\n",
       "      <th></th>\n",
       "      <th>index</th>\n",
       "      <th>timestamp</th>\n",
       "      <th>buyer</th>\n",
       "      <th>seller</th>\n",
       "      <th>symbol</th>\n",
       "      <th>currency</th>\n",
       "      <th>price</th>\n",
       "      <th>quantity</th>\n",
       "    </tr>\n",
       "  </thead>\n",
       "  <tbody>\n",
       "    <tr>\n",
       "      <th>0</th>\n",
       "      <td>4</td>\n",
       "      <td>1600</td>\n",
       "      <td>NaN</td>\n",
       "      <td>NaN</td>\n",
       "      <td>COCONUTS</td>\n",
       "      <td>SEASHELLS</td>\n",
       "      <td>8000.0</td>\n",
       "      <td>30</td>\n",
       "    </tr>\n",
       "    <tr>\n",
       "      <th>1</th>\n",
       "      <td>11</td>\n",
       "      <td>2800</td>\n",
       "      <td>NaN</td>\n",
       "      <td>NaN</td>\n",
       "      <td>COCONUTS</td>\n",
       "      <td>SEASHELLS</td>\n",
       "      <td>7997.0</td>\n",
       "      <td>10</td>\n",
       "    </tr>\n",
       "    <tr>\n",
       "      <th>2</th>\n",
       "      <td>22</td>\n",
       "      <td>3400</td>\n",
       "      <td>NaN</td>\n",
       "      <td>NaN</td>\n",
       "      <td>COCONUTS</td>\n",
       "      <td>SEASHELLS</td>\n",
       "      <td>7996.0</td>\n",
       "      <td>40</td>\n",
       "    </tr>\n",
       "    <tr>\n",
       "      <th>3</th>\n",
       "      <td>37</td>\n",
       "      <td>5200</td>\n",
       "      <td>NaN</td>\n",
       "      <td>NaN</td>\n",
       "      <td>COCONUTS</td>\n",
       "      <td>SEASHELLS</td>\n",
       "      <td>7997.0</td>\n",
       "      <td>9</td>\n",
       "    </tr>\n",
       "    <tr>\n",
       "      <th>4</th>\n",
       "      <td>73</td>\n",
       "      <td>11400</td>\n",
       "      <td>NaN</td>\n",
       "      <td>NaN</td>\n",
       "      <td>COCONUTS</td>\n",
       "      <td>SEASHELLS</td>\n",
       "      <td>8004.0</td>\n",
       "      <td>10</td>\n",
       "    </tr>\n",
       "    <tr>\n",
       "      <th>...</th>\n",
       "      <td>...</td>\n",
       "      <td>...</td>\n",
       "      <td>...</td>\n",
       "      <td>...</td>\n",
       "      <td>...</td>\n",
       "      <td>...</td>\n",
       "      <td>...</td>\n",
       "      <td>...</td>\n",
       "    </tr>\n",
       "    <tr>\n",
       "      <th>1073</th>\n",
       "      <td>17761</td>\n",
       "      <td>986700</td>\n",
       "      <td>NaN</td>\n",
       "      <td>NaN</td>\n",
       "      <td>COCONUTS</td>\n",
       "      <td>SEASHELLS</td>\n",
       "      <td>7919.0</td>\n",
       "      <td>9</td>\n",
       "    </tr>\n",
       "    <tr>\n",
       "      <th>1074</th>\n",
       "      <td>17779</td>\n",
       "      <td>992300</td>\n",
       "      <td>NaN</td>\n",
       "      <td>NaN</td>\n",
       "      <td>COCONUTS</td>\n",
       "      <td>SEASHELLS</td>\n",
       "      <td>7927.0</td>\n",
       "      <td>10</td>\n",
       "    </tr>\n",
       "    <tr>\n",
       "      <th>1075</th>\n",
       "      <td>17780</td>\n",
       "      <td>992300</td>\n",
       "      <td>NaN</td>\n",
       "      <td>NaN</td>\n",
       "      <td>COCONUTS</td>\n",
       "      <td>SEASHELLS</td>\n",
       "      <td>7927.0</td>\n",
       "      <td>55</td>\n",
       "    </tr>\n",
       "    <tr>\n",
       "      <th>1076</th>\n",
       "      <td>17792</td>\n",
       "      <td>995600</td>\n",
       "      <td>NaN</td>\n",
       "      <td>NaN</td>\n",
       "      <td>COCONUTS</td>\n",
       "      <td>SEASHELLS</td>\n",
       "      <td>7927.0</td>\n",
       "      <td>40</td>\n",
       "    </tr>\n",
       "    <tr>\n",
       "      <th>1077</th>\n",
       "      <td>17796</td>\n",
       "      <td>996600</td>\n",
       "      <td>NaN</td>\n",
       "      <td>NaN</td>\n",
       "      <td>COCONUTS</td>\n",
       "      <td>SEASHELLS</td>\n",
       "      <td>7926.0</td>\n",
       "      <td>9</td>\n",
       "    </tr>\n",
       "  </tbody>\n",
       "</table>\n",
       "<p>1078 rows × 8 columns</p>\n",
       "</div>"
      ],
      "text/plain": [
       "      index  timestamp  buyer  seller    symbol   currency   price  quantity\n",
       "0         4       1600    NaN     NaN  COCONUTS  SEASHELLS  8000.0        30\n",
       "1        11       2800    NaN     NaN  COCONUTS  SEASHELLS  7997.0        10\n",
       "2        22       3400    NaN     NaN  COCONUTS  SEASHELLS  7996.0        40\n",
       "3        37       5200    NaN     NaN  COCONUTS  SEASHELLS  7997.0         9\n",
       "4        73      11400    NaN     NaN  COCONUTS  SEASHELLS  8004.0        10\n",
       "...     ...        ...    ...     ...       ...        ...     ...       ...\n",
       "1073  17761     986700    NaN     NaN  COCONUTS  SEASHELLS  7919.0         9\n",
       "1074  17779     992300    NaN     NaN  COCONUTS  SEASHELLS  7927.0        10\n",
       "1075  17780     992300    NaN     NaN  COCONUTS  SEASHELLS  7927.0        55\n",
       "1076  17792     995600    NaN     NaN  COCONUTS  SEASHELLS  7927.0        40\n",
       "1077  17796     996600    NaN     NaN  COCONUTS  SEASHELLS  7926.0         9\n",
       "\n",
       "[1078 rows x 8 columns]"
      ]
     },
     "execution_count": 9,
     "metadata": {},
     "output_type": "execute_result"
    }
   ],
   "source": [
    "df_coco"
   ]
  },
  {
   "cell_type": "code",
   "execution_count": 29,
   "metadata": {},
   "outputs": [
    {
     "name": "stdout",
     "output_type": "stream",
     "text": [
      "0            NaN\n",
      "1       1.000000\n",
      "2      -0.500000\n",
      "3      -0.523205\n",
      "4       0.497241\n",
      "          ...   \n",
      "1073         NaN\n",
      "1074         NaN\n",
      "1075         NaN\n",
      "1076         NaN\n",
      "1077         NaN\n",
      "Name: price, Length: 1078, dtype: float64\n",
      "0            NaN\n",
      "1       1.903833\n",
      "2      -0.936307\n",
      "3      -0.980243\n",
      "4       0.951896\n",
      "          ...   \n",
      "1073         NaN\n",
      "1074         NaN\n",
      "1075         NaN\n",
      "1076         NaN\n",
      "1077         NaN\n",
      "Name: price, Length: 1078, dtype: float64\n"
     ]
    },
    {
     "data": {
      "image/png": "[encoded data removed]",
      "text/plain": [
       "<Figure size 640x480 with 1 Axes>"
      ]
     },
     "metadata": {},
     "output_type": "display_data"
    }
   ],
   "source": [
    "corr = df_pina[\"price\"].corr(df_coco[\"price\"])\n",
    "#print(corr)\n",
    "\n",
    "rolling_corr = df_pina[\"price\"].rolling(10, min_periods=1).corr(df_coco[\"price\"])\n",
    "print(rolling_corr)\n",
    "# Compute the z-score of the rolling correlation\n",
    "zscore = (rolling_corr - rolling_corr.mean()) / rolling_corr.std()\n",
    "zscore.plot.hist(bins=12, alpha=0.5)\n",
    "print(zscore)"
   ]
  }
 ],
 "metadata": {
  "kernelspec": {
   "display_name": "Python 3",
   "language": "python",
   "name": "python3"
  },
  "language_info": {
   "codemirror_mode": {
    "name": "ipython",
    "version": 3
   },
   "file_extension": ".py",
   "mimetype": "text/x-python",
   "name": "python",
   "nbconvert_exporter": "python",
   "pygments_lexer": "ipython3",
   "version": "3.8.5"
  }
 },
 "nbformat": 4,
 "nbformat_minor": 2
}
